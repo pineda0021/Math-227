{
  "nbformat": 4,
  "nbformat_minor": 0,
  "metadata": {
    "colab": {
      "provenance": []
    },
    "kernelspec": {
      "name": "python3",
      "display_name": "Python 3"
    },
    "language_info": {
      "name": "python"
    }
  },
  "cells": [
    {
      "source": [
        "import scipy.stats as stats\n",
        "\n",
        "def binomial_probability_calculator():\n",
        "    \"\"\"Calculates binomial probabilities based on user input.\"\"\"\n",
        "\n",
        "    n = int(input(\"Enter the number of trials (n): \"))\n",
        "    p = float(input(\"Enter the probability of success (p): \"))\n",
        "    x = int(input(\"Enter the number of successes (x): \"))\n",
        "\n",
        "    print(\"\\nProfessor: Edward Pineda-Castro\")\n",
        "    print(\"Department of Mathematics\")\n",
        "    print(\"Los Angeles City College\")\n",
        "\n",
        "    while True:\n",
        "        print(\"\\nChoose the type of probability calculation:\")\n",
        "        print(\"1. Exactly x successes\")\n",
        "        print(\"2. At most x successes\")\n",
        "        print(\"3. At least x successes\")\n",
        "        print(\"4. Between x and y successes\")\n",
        "        print(\"5. More than x successes\")\n",
        "        print(\"6. Fewer than x successes\")\n",
        "        print(\"7. Exit\")\n",
        "\n",
        "        choice = int(input(\"Enter your choice (1-7): \"))\n",
        "\n",
        "        if choice == 1:\n",
        "            probability = stats.binom.pmf(x, n, p)\n",
        "            print(f\"Probability of getting exactly {x} successes: {probability}\")\n",
        "        elif choice == 2:\n",
        "            probability = stats.binom.cdf(x, n, p)\n",
        "            print(f\"Probability of getting at most {x} successes: {probability}\")\n",
        "        elif choice == 3:\n",
        "            probability = 1 - stats.binom.cdf(x - 1, n, p)\n",
        "            print(f\"Probability of getting at least {x} successes: {probability}\")\n",
        "        elif choice == 4:\n",
        "            while True:  # Loop until valid input is provided\n",
        "                try:\n",
        "                    a = int(input(\"Enter the lower bound for successes (a): \"))\n",
        "                    break  # Exit loop if input is valid\n",
        "                except ValueError:\n",
        "                    print(\"Invalid input. Please enter an integer.\")\n",
        "            while True:  # Loop until valid input is provided\n",
        "                try:\n",
        "                    b = int(input(\"Enter the upper bound for successes (b): \"))\n",
        "                    break  # Exit loop if input is valid\n",
        "                except ValueError:\n",
        "                    print(\"Invalid input. Please enter an integer.\")\n",
        "            probability = stats.binom.cdf(b, n, p) - stats.binom.cdf(a - 1, n, p)\n",
        "            print(f\"Probability of getting between {a} and {b} successes: {probability}\")\n",
        "        elif choice == 5:\n",
        "            probability = 1 - stats.binom.cdf(x, n, p)\n",
        "            print(f\"Probability of getting more than {x} successes: {probability}\")\n",
        "        elif choice == 6:\n",
        "            probability = stats.binom.cdf(x - 1, n, p)\n",
        "            print(f\"Probability of getting fewer than {x} successes: {probability}\")\n",
        "        elif choice == 7:\n",
        "            break\n",
        "        else:\n",
        "            print(\"Invalid choice. Please enter a number between 1 and 7.\")"
      ],
      "cell_type": "code",
      "metadata": {
        "id": "Z5SsKXs0LJX_"
      },
      "execution_count": null,
      "outputs": []
    }
  ]
}
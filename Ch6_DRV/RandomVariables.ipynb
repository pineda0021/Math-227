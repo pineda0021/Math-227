{
  "nbformat": 4,
  "nbformat_minor": 0,
  "metadata": {
    "colab": {
      "provenance": []
    },
    "kernelspec": {
      "name": "python3",
      "display_name": "Python 3"
    },
    "language_info": {
      "name": "python"
    }
  },
  "cells": [
    {
      "cell_type": "code",
      "source": [
        "import numpy as np\n",
        "\n",
        "def calculate_statistics(x, px):\n",
        "    \"\"\"\n",
        "    Calculate the mean, variance, and standard deviation of a discrete random variable.\n",
        "\n",
        "    Parameters:\n",
        "    x (list or np.array): Values of the random variable.\n",
        "    px (list or np.array): Corresponding probabilities.\n",
        "\n",
        "    Returns:\n",
        "    dict: A dictionary containing mean, variance, and standard deviation.\n",
        "    \"\"\"\n",
        "    x = np.array(x)\n",
        "    px = np.array(px)\n",
        "\n",
        "    # Compute mean\n",
        "    mean_x = np.sum(x * px)\n",
        "\n",
        "    # Compute variance\n",
        "    variance_x = np.sum(((x - mean_x) ** 2) * px)\n",
        "\n",
        "    # Compute standard deviation\n",
        "    std_dev_x = np.sqrt(variance_x)\n",
        "\n",
        "    # Print results\n",
        "    print(f\"Mean: {mean_x:.4f}\")\n",
        "    print(f\"Variance: {variance_x:.4f}\")\n",
        "    print(f\"Standard Deviation: {std_dev_x:.4f}\")\n",
        "\n",
        "    # Print professor info at the bottom\n",
        "    print(\"\\nProfessor: Edward Pineda-Castro\")\n",
        "    print(\"Department of Mathematics\")\n",
        "    print(\"Los Angeles City College\")\n",
        "\n",
        "    return {\"Mean\": mean_x, \"Variance\": variance_x, \"Standard Deviation\": std_dev_x}\n",
        "\n"
      ],
      "metadata": {
        "id": "c8dVKVUvHqwk"
      },
      "execution_count": 15,
      "outputs": []
    },
    {
      "cell_type": "code",
      "source": [
        "# Define values and probabilities outside the function\n",
        "x_values = [1, 2, 3, 4, 5, 6, 7, 8, 9]\n",
        "px_values = [0.011, 0.028, 0.228, 0.337, 0.233, 0.108, 0.037, 0.013, 0.005]\n",
        "results = calculate_statistics(x_values, px_values)"
      ],
      "metadata": {
        "colab": {
          "base_uri": "https://localhost:8080/"
        },
        "id": "KjG3OB5aMFuV",
        "outputId": "dae9b9a8-aef8-42c5-a27a-8203b91d7e61"
      },
      "execution_count": 16,
      "outputs": [
        {
          "output_type": "stream",
          "name": "stdout",
          "text": [
            "Mean: 4.3200\n",
            "Variance: 1.6676\n",
            "Standard Deviation: 1.2914\n",
            "\n",
            "Professor: Edward Pineda-Castro\n",
            "Department of Mathematics\n",
            "Los Angeles City College\n"
          ]
        }
      ]
    }
  ]
}
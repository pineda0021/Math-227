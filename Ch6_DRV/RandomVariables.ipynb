{
  "nbformat": 4,
  "nbformat_minor": 0,
  "metadata": {
    "colab": {
      "provenance": []
    },
    "kernelspec": {
      "name": "python3",
      "display_name": "Python 3"
    },
    "language_info": {
      "name": "python"
    }
  },
  "cells": [
    {
      "cell_type": "code",
      "source": [
        "import numpy as np\n",
        "\n",
        "def calculate_statistics(x, px):\n",
        "    \"\"\"\n",
        "    Calculate the mean, variance, and standard deviation of a discrete random variable.\n",
        "\n",
        "    Parameters:\n",
        "    x (list or np.array): Values of the random variable.\n",
        "    px (list or np.array): Corresponding probabilities.\n",
        "\n",
        "    Returns:\n",
        "    dict: A dictionary containing mean, variance, and standard deviation.\n",
        "    \"\"\"\n",
        "    x = np.array(x)\n",
        "    px = np.array(px)\n",
        "\n",
        "    # Compute mean\n",
        "    mean_x = np.sum(x * px)\n",
        "\n",
        "    # Compute variance\n",
        "    variance_x = np.sum(((x - mean_x) ** 2) * px)\n",
        "\n",
        "    # Compute standard deviation\n",
        "    std_dev_x = np.sqrt(variance_x)\n",
        "\n",
        "    # Print results\n",
        "    print(f\"Mean: {mean_x:.4f}\")\n",
        "    print(f\"Variance: {variance_x:.4f}\")\n",
        "    print(f\"Standard Deviation: {std_dev_x:.4f}\")\n",
        "\n",
        "    return {\"Mean\": mean_x, \"Variance\": variance_x, \"Standard Deviation\": std_dev_x}\n",
        "\n",
        "\n",
        "# Call the function with predefined values\n",
        "results = calculate_statistics(x_values, px_values)\n",
        "\n",
        "# Print professor info at the bottom\n",
        "print(\"\\nProfessor: Edward Pineda-Castro\")\n",
        "print(\"Department of Mathematics\")\n",
        "print(\"Los Angeles City College\")\n"
      ],
      "metadata": {
        "id": "c8dVKVUvHqwk"
      },
      "execution_count": null,
      "outputs": []
    }
  ]
}
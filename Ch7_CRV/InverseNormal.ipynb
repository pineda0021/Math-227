{
  "nbformat": 4,
  "nbformat_minor": 0,
  "metadata": {
    "colab": {
      "provenance": []
    },
    "kernelspec": {
      "name": "python3",
      "display_name": "Python 3"
    },
    "language_info": {
      "name": "python"
    }
  },
  "cells": [
    {
      "cell_type": "code",
      "execution_count": null,
      "metadata": {
        "id": "-oaksYkTmESf"
      },
      "outputs": [],
      "source": [
        "import numpy as np\n",
        "import scipy.stats as stats\n",
        "import matplotlib.pyplot as plt\n",
        "\n",
        "# Get user input\n",
        "mean = float(input(\"Enter the mean: \"))\n",
        "sd = float(input(\"Enter the stdev: \"))\n",
        "decimal = int(input(\"Enter the decimal place (e.g., 4 for 4 decimal places): \"))\n",
        "\n",
        "# Display options\n",
        "print(\"Choose calculation option:\")\n",
        "print(\"1. Find x for a given left probability\")\n",
        "print(\"2. Find x for a given right probability\")\n",
        "print(\"3. Find x for given lower and upper probabilities\")\n",
        "\n",
        "option = int(input(\"Enter your choice (1/2/3): \"))\n",
        "\n",
        "def inverse_left(p, mean, sd):\n",
        "    return round(stats.norm.ppf(p, mean, sd), decimal)\n",
        "\n",
        "def inverse_right(p, mean, sd):\n",
        "    return round(stats.norm.ppf(1 - p, mean, sd), decimal)\n",
        "\n",
        "def inverse_between(a, b, mean, sd):\n",
        "    lower = round(stats.norm.ppf(a, mean, sd), decimal)\n",
        "    upper = round(stats.norm.ppf(b, mean, sd), decimal)\n",
        "    return lower, upper\n",
        "\n",
        "# Generate x values for the normal distribution\n",
        "x = np.linspace(mean - 4 * sd, mean + 4 * sd, 1000)\n",
        "y = stats.norm.pdf(x, mean, sd)\n",
        "plt.plot(x, y, label=\"Normal Distribution\", color='blue')\n",
        "\n",
        "if option == 1:\n",
        "    p = float(input(\"Enter the left probability (p): \"))\n",
        "    result = inverse_left(p, mean, sd)\n",
        "    print(f\"X for P(X < x) = {p} is {result}\")\n",
        "    plt.axvline(result, color='red', linestyle='--')\n",
        "\n",
        "elif option == 2:\n",
        "    p = float(input(\"Enter the right probability (p): \"))\n",
        "    result = inverse_right(p, mean, sd)\n",
        "    print(f\"X for P(X > x) = {p} is {result}\")\n",
        "    plt.axvline(result, color='red', linestyle='--')\n",
        "\n",
        "elif option == 3:\n",
        "    a = float(input(\"Enter the lower probability (a): \"))\n",
        "    b = float(input(\"Enter the upper probability (b): \"))\n",
        "    lower, upper = inverse_between(a, b, mean, sd)\n",
        "    print(f\"X values for P({a} < X < {b}) are {lower} and {upper}\")\n",
        "    plt.axvline(lower, color='red', linestyle='--')\n",
        "    plt.axvline(upper, color='red', linestyle='--')\n",
        "\n",
        "else:\n",
        "    print(\"Invalid choice. Please select 1, 2, or 3.\")\n",
        "\n",
        "# Print professor info at the bottom\n",
        "print(\"\\nProfessor: Edward Pineda-Castro\")\n",
        "print(\"Department of Mathematics\")\n",
        "print(\"Los Angeles City College\")\n",
        "\n",
        "plt.xlabel(\"X\")\n",
        "plt.ylabel(\"Density\")\n",
        "plt.title(\"Normal Distribution\")\n",
        "plt.legend()\n",
        "plt.show()\n"
      ]
    }
  ]
}
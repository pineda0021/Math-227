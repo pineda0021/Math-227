{
  "nbformat": 4,
  "nbformat_minor": 0,
  "metadata": {
    "colab": {
      "provenance": []
    },
    "kernelspec": {
      "name": "python3",
      "display_name": "Python 3"
    },
    "language_info": {
      "name": "python"
    }
  },
  "cells": [
    {
      "cell_type": "code",
      "source": [
        "import numpy as np\n",
        "import matplotlib.pyplot as plt\n",
        "\n",
        "def analyze_data(your_data):\n",
        "    # Calculate the five-number summary\n",
        "    minimum = np.min(your_data)\n",
        "    q1 = np.percentile(your_data, 25)\n",
        "    median_value = np.median(your_data)\n",
        "    q3 = np.percentile(your_data, 75)\n",
        "    maximum = np.max(your_data)\n",
        "\n",
        "    # Display the Five-Number Summary\n",
        "    print(f\"Minimum = {minimum}\")\n",
        "    print(f\"Q1 = {q1}\")\n",
        "    print(f\"Median = {median_value}\")\n",
        "    print(f\"Q3 = {q3}\")\n",
        "    print(f\"Maximum = {maximum}\")\n",
        "\n",
        "    # Calculate the IQR (Interquartile Range)\n",
        "    IQR = q3 - q1\n",
        "\n",
        "    # Define lower and upper bounds for potential outliers\n",
        "    lower_bound = q1 - 1.5 * IQR\n",
        "    upper_bound = q3 + 1.5 * IQR\n",
        "\n",
        "    # Identify potential outliers\n",
        "    outliers = [x for x in your_data if x < lower_bound or x > upper_bound]\n",
        "\n",
        "    # Display potential outliers\n",
        "    print(f\"Potential outliers: {outliers}\")\n",
        "\n",
        "    # Create a horizontal boxplot\n",
        "    plt.boxplot(your_data, vert=False, patch_artist=True,\n",
        "                boxprops=dict(facecolor='lightblue', color='black'),\n",
        "                whiskerprops=dict(color='black'),\n",
        "                flierprops=dict(marker='o', color='red', markersize=5))\n",
        "    plt.title(\"Horizontal Boxplot for the Dataset\")\n",
        "    plt.xlabel(\"Values\")\n",
        "    plt.show()\n",
        "\n",
        "    # Print professor info at the bottom\n",
        "    print(\"\\nProfessor: Edward Pineda-Castro\")\n",
        "    print(\"Department of Mathematics\")\n",
        "    print(\"Los Angeles City College\")\n"
      ],
      "metadata": {
        "id": "_kRdS11WIHYA"
      },
      "execution_count": 2,
      "outputs": []
    }
  ]
}
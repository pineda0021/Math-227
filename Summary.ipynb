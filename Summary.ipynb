{
  "nbformat": 4,
  "nbformat_minor": 0,
  "metadata": {
    "colab": {
      "provenance": []
    },
    "kernelspec": {
      "name": "python3",
      "display_name": "Python 3"
    },
    "language_info": {
      "name": "python"
    }
  },
  "cells": [
    {
      "cell_type": "code",
      "execution_count": 6,
      "metadata": {
        "id": "yn0cvfKN8yO4"
      },
      "outputs": [],
      "source": [
        "import statistics\n",
        "\n",
        "def summary_statistics(data):\n",
        "    if len(data) == 0:\n",
        "        return \"Data cannot be empty\"\n",
        "\n",
        "    \"\"\"\n",
        "    This function should give you all the required statistics.\n",
        "    You can call the summary_statistics function with a list of numerical data to get the summary.\n",
        "\n",
        "    Author: Edward Pineda-Castro\n",
        "    \"\"\"\n",
        "\n",
        "    # Calculating required statistics\n",
        "    mean = statistics.mean(data)\n",
        "    median = statistics.median(data)\n",
        "    mode = statistics.multimode(data)\n",
        "    data_range = max(data) - min(data)\n",
        "\n",
        "    # Population variance and standard deviation\n",
        "    population_variance = statistics.pvariance(data)\n",
        "    population_std_dev = statistics.pstdev(data)\n",
        "\n",
        "    # Sample variance and standard deviation\n",
        "    sample_variance = statistics.variance(data)\n",
        "    sample_std_dev = statistics.stdev(data)\n",
        "\n",
        "    # Creating a dictionary to store the results\n",
        "    stats = {\n",
        "        'Mean': mean,\n",
        "        'Median': median,\n",
        "        'Mode': mode,\n",
        "        'Range': data_range,\n",
        "        'Population Variance': population_variance,\n",
        "        'Population Standard Deviation': population_std_dev,\n",
        "        'Sample Variance': sample_variance,\n",
        "        'Sample Standard Deviation': sample_std_dev\n",
        "    }\n",
        "\n",
        "    # Print the statistics\n",
        "    for stat, value in stats.items():\n",
        "        print(f\"{stat}: {value}\")\n",
        "\n",
        "    # Print professor info at the bottom\n",
        "    print(\"\\nProfessor: Edward Pineda-Castro\")\n",
        "    print(\"Department of Mathematics\")\n",
        "    print(\"Los Angeles City College\")\n",
        "\n"
      ]
    }
  ]
}
{
  "nbformat": 4,
  "nbformat_minor": 0,
  "metadata": {
    "colab": {
      "provenance": []
    },
    "kernelspec": {
      "name": "python3",
      "display_name": "Python 3"
    },
    "language_info": {
      "name": "python"
    }
  },
  "cells": [
    {
      "cell_type": "code",
      "execution_count": 2,
      "metadata": {
        "id": "EjsQcXGz9L1T"
      },
      "outputs": [],
      "source": [
        "import math\n",
        "from scipy.stats import norm\n",
        "\n",
        "def hypothesis_test_proportion(x, n, p_null, alpha, tails=\"two\", decimal_places=2):\n",
        "    # Calculate the sample proportion (p_hat)\n",
        "    p_hat = x / n\n",
        "\n",
        "    # Calculate the standard error (se)\n",
        "    se = math.sqrt(p_null * (1 - p_null) / n)\n",
        "\n",
        "    # Calculate the test statistic (z-score)\n",
        "    z = (p_hat - p_null) / se\n",
        "\n",
        "    # Critical values and p-value based on the tail\n",
        "    if tails == \"left\":\n",
        "        crit_val = -abs(norm.ppf(alpha))\n",
        "        p_val = norm.cdf(z)\n",
        "        conclusion = \"Reject the null hypothesis\" if z < crit_val else \"Do not reject the null hypothesis\"\n",
        "    elif tails == \"right\":\n",
        "        crit_val = abs(norm.ppf(alpha))\n",
        "        p_val = 1 - norm.cdf(z)\n",
        "        conclusion = \"Reject the null hypothesis\" if z > crit_val else \"Do not reject the null hypothesis\"\n",
        "    else:  # two-tailed\n",
        "        crit_val_left = -abs(norm.ppf(alpha / 2))\n",
        "        crit_val_right = abs(norm.ppf(alpha / 2))\n",
        "        p_val = 2 * (1 - norm.cdf(abs(z)))\n",
        "        conclusion = \"Reject the null hypothesis\" if abs(z) > crit_val_right or abs(z) < crit_val_left else \"Do not reject the null hypothesis\"\n",
        "\n",
        "    # Round results\n",
        "    z = round(z, decimal_places)\n",
        "    p_val = round(p_val, decimal_places)\n",
        "\n",
        "    if tails == \"two\":\n",
        "        crit_val_left = round(crit_val_left, decimal_places)\n",
        "        crit_val_right = round(crit_val_right, decimal_places)\n",
        "        print(f\"Critical values: {crit_val_left}, {crit_val_right}\")\n",
        "    else:\n",
        "        crit_val = round(crit_val, decimal_places)\n",
        "        print(f\"Critical value: {crit_val}\")\n",
        "\n",
        "    print(f\"Test statistic: {z}\")\n",
        "    print(f\"P-value: {p_val}\")\n",
        "    print(f\"Conclusion: {conclusion}\")\n"
      ]
    },
    {
      "cell_type": "code",
      "source": [
        "# Call the Python version of the hypothesis test function\n",
        "hypothesis_test_proportion(x=297, n=480, p_null=0.56, alpha=0.05, tails=\"left\", decimal_places=4)\n"
      ],
      "metadata": {
        "colab": {
          "base_uri": "https://localhost:8080/"
        },
        "id": "vQ82gVLJ9Yt9",
        "outputId": "500c2c7d-43ab-4342-8974-fdffd797e55e"
      },
      "execution_count": 3,
      "outputs": [
        {
          "output_type": "stream",
          "name": "stdout",
          "text": [
            "Critical value: -1.6449\n",
            "Test statistic: 2.593\n",
            "P-value: 0.9952\n",
            "Conclusion: Do not reject the null hypothesis\n"
          ]
        }
      ]
    }
  ]
}